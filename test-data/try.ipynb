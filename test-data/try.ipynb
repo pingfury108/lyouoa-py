{
 "cells": [
  {
   "cell_type": "code",
   "execution_count": 14,
   "id": "5f7c2db5-2eee-4ba8-a831-2337e7c42ed2",
   "metadata": {},
   "outputs": [],
   "source": [
    "import httpx\n",
    "from urllib.parse import urlparse,parse_qs\n",
    "from lyouoa_py.lib import LyouoaClient"
   ]
  },
  {
   "cell_type": "code",
   "execution_count": 20,
   "id": "57555c81-8822-4a31-8328-be30b8fc5d12",
   "metadata": {},
   "outputs": [],
   "source": [
    "rr = httpx.post(url='https://vip.lyouoa.com/366820/Regulate/QueryRegulateLayPage', params=parse_qs(r.query), cookies={\"ASP.NET_SessionId\": \"my55l3ojrxzbpalqrmxjbdgw\"})"
   ]
  },
  {
   "cell_type": "code",
   "execution_count": 24,
   "id": "80fec3d7-bd2b-4b2c-91e6-fd96ab7d1817",
   "metadata": {},
   "outputs": [
    {
     "data": {
      "text/plain": [
       "['A8A9A6B965AB1E3E',\n",
       " '3D8618710B121291',\n",
       " 'DE2F3A37B3560C75',\n",
       " 'C6F9B7E1DCB76B95',\n",
       " '461126FB9099ACFF',\n",
       " '543B5F7F441F0E72',\n",
       " 'F6D7F6781DCEC077',\n",
       " '9457A055D8124F91',\n",
       " '361C32831410B744',\n",
       " '2459711EF42C15F8',\n",
       " '63FF52164EA80BE2',\n",
       " 'DACC1C2052D22629',\n",
       " '4F1C9FE7BDC37FCE',\n",
       " '779D66907183073B',\n",
       " '013BFE6DB17D70A2',\n",
       " '073D5213E1A201CC',\n",
       " '64F0FE1938F972F2',\n",
       " '8C392A579485DAA8',\n",
       " '99D937A7F51093D8',\n",
       " 'B2DCCBBD594DB58C']"
      ]
     },
     "execution_count": 24,
     "metadata": {},
     "output_type": "execute_result"
    }
   ],
   "source": [
    "[ d[\"EID\"] for d in rr.json()[\"data\"]]"
   ]
  },
  {
   "cell_type": "code",
   "execution_count": 28,
   "id": "a5750197-7f54-439f-bc86-83ffaed75a39",
   "metadata": {},
   "outputs": [
    {
     "data": {
      "text/plain": [
       "20"
      ]
     },
     "execution_count": 28,
     "metadata": {},
     "output_type": "execute_result"
    }
   ],
   "source": [
    "len(rr.json()[\"data\"])"
   ]
  },
  {
   "cell_type": "code",
   "execution_count": 7,
   "id": "578b96a6-3c94-4efd-b5d8-d2d5820327d8",
   "metadata": {},
   "outputs": [],
   "source": [
    "r = urlparse(\"https://vip.lyouoa.com/366820/Regulate/QueryRegulateLayPage?page=1&limit=20&RegulateStatus=0%2C3&Classify=1&GroupClassify=&StartTime=&EndTime=2023-09-30&BusinessClassify=0&searchKey=GroupCode&searchValue=&OrgID=0&OrgName=%E9%80%89%E6%8B%A9%E9%83%A8%E9%97%A8&GroupTimeKey=GroupStartTime&Category1=0&Category2=0&Category3=0&fields=EID%2CGroupCode%2CGroupStartTimeFormatMMdd%2CGroupEndTimeFormatMMdd%2CCustomerName%2CLineName%2CPersonCountDisplay%2CPersonCountDisplay%2CPersonConfirmDisplay%2CMeetingPlate%2CRegulateName%2CExternalName%2CRegulateOperatorName%2CStatusText%2CRegulateGuideNames%2CRegulateFoodSumPrice%2CRegulateTicketSumPrice%2CRegulateHotelSumPrice%2CRegulateVehicleSumPrice%2CRegulateTrafficTicketSumPrice%2CRegulateInsuranceSumPrice%2CRegulateShoppingNames%2CRegulateSelfShoppingNames%2CRegulateIncomeSumPrice%2CRegulateOutgoSumPrice%2CRegulateConnectionNames%2CRegulateTeamSync%2CRegulateStatus%2CIsActive%2CIsGuideChecked%2CIsFoodChecked%2CIsTicketChecked%2CIsHotelChecked%2CIsVehicleChecked%2CIsTrafficTicketChecked%2CIsInsuranceChecked%2CIsShoppingChecked%2CIsSelfShoppingChecked%2CIsIncomeChecked%2CIsOutgoChecked%2CIsConnectionChecked%2CInsertUserID%2CIsConnectionOpen%2CRegulateOperatorID%2CIsGuideProcess%2CIsTicketProcess%2CIsHotelProcess%2CIsFoodProcess%2CIsVehicleProcess%2CIsTrafficTicketProcess%2CIsInsuranceProcess%2CIsShoppingProcess%2CIsSelfShoppingProcess%2CIsIncomeProcess%2CIsOutgoProcess%2CIsConnectionProcess%2CIsTeamSyncChecked%2CIsTeamSyncProcess%2CAdultCount%2CChildrenCount%2CCompanionCount%2CSignUpAdultCountConfirm%2CSignUpChildrenCountConfirm%2CSignUpCompanionCountConfirm%2CSignUpAdultCountTransfer%2CSignUpChildrenCountTransfer%2CSignUpCompanionCountTransfer%2CGroupStatus%2CIsCancel%2CInsertLastLogDay%2CUpdateLastLogDay\")"
   ]
  },
  {
   "cell_type": "code",
   "execution_count": 15,
   "id": "0bf54425-335e-4d3a-ba5b-88e5e045f5f3",
   "metadata": {},
   "outputs": [
    {
     "data": {
      "text/plain": [
       "{'page': ['1'],\n",
       " 'limit': ['20'],\n",
       " 'RegulateStatus': ['0,3'],\n",
       " 'Classify': ['1'],\n",
       " 'EndTime': ['2023-09-30'],\n",
       " 'BusinessClassify': ['0'],\n",
       " 'searchKey': ['GroupCode'],\n",
       " 'OrgID': ['0'],\n",
       " 'OrgName': ['选择部门'],\n",
       " 'GroupTimeKey': ['GroupStartTime'],\n",
       " 'Category1': ['0'],\n",
       " 'Category2': ['0'],\n",
       " 'Category3': ['0'],\n",
       " 'fields': ['EID,GroupCode,GroupStartTimeFormatMMdd,GroupEndTimeFormatMMdd,CustomerName,LineName,PersonCountDisplay,PersonCountDisplay,PersonConfirmDisplay,MeetingPlate,RegulateName,ExternalName,RegulateOperatorName,StatusText,RegulateGuideNames,RegulateFoodSumPrice,RegulateTicketSumPrice,RegulateHotelSumPrice,RegulateVehicleSumPrice,RegulateTrafficTicketSumPrice,RegulateInsuranceSumPrice,RegulateShoppingNames,RegulateSelfShoppingNames,RegulateIncomeSumPrice,RegulateOutgoSumPrice,RegulateConnectionNames,RegulateTeamSync,RegulateStatus,IsActive,IsGuideChecked,IsFoodChecked,IsTicketChecked,IsHotelChecked,IsVehicleChecked,IsTrafficTicketChecked,IsInsuranceChecked,IsShoppingChecked,IsSelfShoppingChecked,IsIncomeChecked,IsOutgoChecked,IsConnectionChecked,InsertUserID,IsConnectionOpen,RegulateOperatorID,IsGuideProcess,IsTicketProcess,IsHotelProcess,IsFoodProcess,IsVehicleProcess,IsTrafficTicketProcess,IsInsuranceProcess,IsShoppingProcess,IsSelfShoppingProcess,IsIncomeProcess,IsOutgoProcess,IsConnectionProcess,IsTeamSyncChecked,IsTeamSyncProcess,AdultCount,ChildrenCount,CompanionCount,SignUpAdultCountConfirm,SignUpChildrenCountConfirm,SignUpCompanionCountConfirm,SignUpAdultCountTransfer,SignUpChildrenCountTransfer,SignUpCompanionCountTransfer,GroupStatus,IsCancel,InsertLastLogDay,UpdateLastLogDay']}"
      ]
     },
     "execution_count": 15,
     "metadata": {},
     "output_type": "execute_result"
    }
   ],
   "source": [
    "parse_qs(r.query)"
   ]
  },
  {
   "cell_type": "code",
   "execution_count": null,
   "id": "a2bf1b14-f97d-49f4-a7ea-8bd61a4e2846",
   "metadata": {},
   "outputs": [],
   "source": []
  },
  {
   "cell_type": "code",
   "execution_count": 29,
   "id": "ce97d5ed-f0e9-448f-8b51-ddcbf4be5d46",
   "metadata": {},
   "outputs": [],
   "source": [
    "r_hot = urlparse(\"https://vip.lyouoa.com/366820/Regulate/Regulate_Hotel?Classify=1&GroupEID=2459711EF42C15F8&Index=4&GroupClassify=&RegulateStatus=0%2c3&StartTime=2022-05-18&EndTime=2023-09-30&SearchKey=GroupCode&SearchValue=&OrgID=0&OrgName=%e9%80%89%e6%8b%a9%e9%83%a8%e9%97%a8&HasChange=false\")"
   ]
  },
  {
   "cell_type": "code",
   "execution_count": 32,
   "id": "74313874-16e4-4ce8-8191-81b305f5da49",
   "metadata": {},
   "outputs": [
    {
     "data": {
      "text/plain": [
       "{'Classify': ['1'],\n",
       " 'GroupEID': ['2459711EF42C15F8'],\n",
       " 'Index': ['4'],\n",
       " 'RegulateStatus': ['0,3'],\n",
       " 'StartTime': ['2022-05-18'],\n",
       " 'EndTime': ['2023-09-30'],\n",
       " 'SearchKey': ['GroupCode'],\n",
       " 'OrgID': ['0'],\n",
       " 'OrgName': ['选择部门'],\n",
       " 'HasChange': ['false']}"
      ]
     },
     "execution_count": 32,
     "metadata": {},
     "output_type": "execute_result"
    }
   ],
   "source": [
    "parse_qs(r_hot.query)"
   ]
  },
  {
   "cell_type": "code",
   "execution_count": 33,
   "id": "6ebc9afb-b07f-40e9-b02b-5df2566aa67a",
   "metadata": {},
   "outputs": [],
   "source": [
    "hot_r = httpx.get(url='https://vip.lyouoa.com/366820/Regulate/Regulate_Hotel',cookies={\"ASP.NET_SessionId\": \"my55l3ojrxzbpalqrmxjbdgw\"}, params= parse_qs(r_hot.query))"
   ]
  },
  {
   "cell_type": "code",
   "execution_count": null,
   "id": "b09e0ede-3888-4be1-b138-5fbcf4a639ac",
   "metadata": {},
   "outputs": [],
   "source": []
  },
  {
   "cell_type": "code",
   "execution_count": 36,
   "id": "315f9bd7-0107-44dc-acdf-7c7857575ade",
   "metadata": {},
   "outputs": [],
   "source": [
    "r_log = urlparse(\"https://vip.lyouoa.com/366820/Group/RegulateLogList?RegulateClassify=6&GroupEID=2459711EF42C15F8\")"
   ]
  },
  {
   "cell_type": "code",
   "execution_count": 39,
   "id": "0b8b8b2c-c0c6-4eaf-9b92-ac1ec16dd99b",
   "metadata": {},
   "outputs": [
    {
     "data": {
      "text/plain": [
       "{'RegulateClassify': ['6'], 'GroupEID': ['2459711EF42C15F8']}"
      ]
     },
     "execution_count": 39,
     "metadata": {},
     "output_type": "execute_result"
    }
   ],
   "source": [
    "parse_qs(r_log.query)"
   ]
  },
  {
   "cell_type": "code",
   "execution_count": 41,
   "id": "eafaf7f2-4879-460c-8808-21ce35878e53",
   "metadata": {},
   "outputs": [],
   "source": [
    "log_r = httpx.get(url='https://vip.lyouoa.com/366820/Group/RegulateLogList', cookies={\"ASP.NET_SessionId\": \"my55l3ojrxzbpalqrmxjbdgw\"}, params=parse_qs(r_log.query))"
   ]
  },
  {
   "cell_type": "code",
   "execution_count": null,
   "id": "3f58e90e-7c17-44d6-9454-69e918fe09f0",
   "metadata": {},
   "outputs": [],
   "source": [
    "log_r.text"
   ]
  },
  {
   "cell_type": "code",
   "execution_count": null,
   "id": "dbbea590-3232-4521-b7e4-215e7d8f0996",
   "metadata": {},
   "outputs": [],
   "source": []
  }
 ],
 "metadata": {
  "kernelspec": {
   "display_name": "Python 3 (ipykernel)",
   "language": "python",
   "name": "python3"
  },
  "language_info": {
   "codemirror_mode": {
    "name": "ipython",
    "version": 3
   },
   "file_extension": ".py",
   "mimetype": "text/x-python",
   "name": "python",
   "nbconvert_exporter": "python",
   "pygments_lexer": "ipython3",
   "version": "3.11.5"
  }
 },
 "nbformat": 4,
 "nbformat_minor": 5
}
